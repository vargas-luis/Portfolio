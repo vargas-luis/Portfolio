{
  "nbformat": 4,
  "nbformat_minor": 0,
  "metadata": {
    "colab": {
      "provenance": [],
      "authorship_tag": "ABX9TyN7n7OvLXuX+5xjjihtsXFh",
      "include_colab_link": true
    },
    "kernelspec": {
      "name": "python3",
      "display_name": "Python 3"
    },
    "language_info": {
      "name": "python"
    }
  },
  "cells": [
    {
      "cell_type": "markdown",
      "metadata": {
        "id": "view-in-github",
        "colab_type": "text"
      },
      "source": [
        "<a href=\"https://colab.research.google.com/github/vargas-luis/Portfolio/blob/main/02_28.ipynb\" target=\"_parent\"><img src=\"https://colab.research.google.com/assets/colab-badge.svg\" alt=\"Open In Colab\"/></a>"
      ]
    },
    {
      "cell_type": "code",
      "execution_count": 2,
      "metadata": {
        "colab": {
          "base_uri": "https://localhost:8080/"
        },
        "id": "r2fxj0AF1Yii",
        "outputId": "95d9743f-1c1e-4684-d884-f0f8642ce68a"
      },
      "outputs": [
        {
          "output_type": "stream",
          "name": "stdout",
          "text": [
            "la suma de 3.4 y 2.2 es 5.6\n"
          ]
        }
      ],
      "source": [
        "num1= 3.4\n",
        "num2 =2.2\n",
        "sum=num1+num2\n",
        "\n",
        "print(\"la suma de {0} y {1} es {2}\".format(num1, num2, sum))"
      ]
    }
  ]
}